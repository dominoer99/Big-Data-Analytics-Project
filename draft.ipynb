{
 "cells": [
  {
   "cell_type": "markdown",
   "metadata": {},
   "source": [
    "# IS843 Team Assignment"
   ]
  },
  {
   "cell_type": "markdown",
   "metadata": {},
   "source": [
    "### Team member: Frank Huang,  Lingyi Xu, Ryan Hayes"
   ]
  },
  {
   "cell_type": "markdown",
   "metadata": {},
   "source": [
    "### Here's the content of this notebook:\n",
    "    1. Data overview\n",
    "    2. Data loading and cleaning\n",
    "    3. Exploratory data analysis\n",
    "        3.1 Basic summary\n",
    "            3.1.1 Top Names that are adopted for Cats and Dogs\n",
    "            3.1.2 Top Animal Dog names which were adopted\n",
    "            3.1.3 Top 10 female Dog colors which were adopted\n",
    "            3.1.4 Top 10 male Dog colors which were adopted\n",
    "            3.1.5 Which are the most desireable female Dogs adopted with potential mating ability?\n",
    "            3.1.6 Animals with high need for foster care\n",
    "            3.1.7 Distinct number of breeds that entered the shelter\n",
    "            3.1.8 Percentage of adoptions that are foster adoptions\n",
    "        3.2 Data visualization\n",
    "            3.2.1 Age distribution\n",
    "            3.2.2 Amount of acitivity records in Astin Animal Shelter by month\n",
    "            3.2.3 Sex\n",
    "            3.2.4 Color\n",
    "            3.2.5 Fertility\n",
    "            3.2.6 Outcome\n",
    "            3.2.7 Number of times an animal was sent to the shelter\n",
    "    "
   ]
  },
  {
   "cell_type": "markdown",
   "metadata": {},
   "source": [
    "## 1. Data overview"
   ]
  },
  {
   "cell_type": "markdown",
   "metadata": {},
   "source": [
    "Data Overview - Raw Data\n",
    "This is a historical dataset on animal shelter statistics. It has a running list of a variety of animal types. We want to focus on dogs or cats, which can be segregated by a unique animal id. Our team would like to analyze the trends between adoption and the traits given in the spreadsheet.\n",
    "\n",
    "Does one breed rule over the others? Is there a certain color(s) that attract adopters? Is age a factor in adoption rates? Do adopters need an animal that has gone through a reproductive organ procedure?\n",
    "\n",
    "These are just a few of the questions we hope to address in our code catalog, that we hope you enjoy processing along with us!\n",
    "\n",
    "The source of the data was derived from Kaggle. Background on the dataset: https://www.kaggle.com/wenlie/exploring-and-predicting-the-animal-s-outcomes The data was https://www.kaggle.com/aaronschlegel/austin-animal-center-shelter-outcomes-and#aac_shelter_outcomes.csv\n",
    "\n",
    "Attributes: aac_shelter_outcomes_cleaned_V4.csv\n",
    "\n",
    "|Column Name|Data Type|Description\n",
    "|--|--|--|\n",
    "|age_upon_outcome|String|Age of the Animal in Weeks, Months, Years|\n",
    "|animal_id|integer|Unique number for each animal|\n",
    "|animal_type|string|Dog, Cat, Livestock, Bird, or Other|\n",
    "|breed|string|Breed of the Animal|\n",
    "|color|string|Color(s) on Animal|\n",
    "|date_of_birth|string|Birth Date of Animal|\n",
    "|datetime|string|Date of Entry into Shelter|\n",
    "|monthyear|string|Date of Entry into Shelter|\n",
    "|name|string|Name of Animal|\n",
    "|outcome_subtype|string|Specific Outcome related to the outcome_type (snr = Shelter Neuter Return, scrp = Stray Cat Return Program|\n",
    "|outcome_type|string|Outcome of the Pet after Visiting the Shelter|\n",
    "|sex_upon_outcome|string|Reproductive Status and Gender|\n",
    "\n",
    "There will be several steps taken to cleanup the data:\n",
    "\n",
    "|Problem Number|Column Name Impacted|Add,Edit,Drop|Reason for Change\n",
    "|--|--|--|--|\n",
    "|1.|age_upon_outcome|Drop Column|Inconsistency data values (weeks, months, and years interchanged)|\n",
    "|2.|breed|Drop Unknown Results|Cannot draw insights from unknown breeds|\n",
    "|3.|sex_upon_outcome|Drop Unknown Sex Results|Cannot draw insight from unknown Sex|\n",
    "|4.|sex_upon_outcome|Edit Split|Contains 2 desired values: sex and reproduction status|\n",
    "|5.|sex_upon_outcome|Drop Column|Split the column into two new columns; no longer have a need for this column|\n",
    "|6.|breed|Edit Word|Removed the word \"Mix\" from the values|\n",
    "|7.|breed|Add New Column|Add a Color Number column to better distinguish animal breeds|\n",
    "|8.|datetime|Drop Column|Duplicate of the monthyear column, which we consider more accurate|\n"
   ]
  },
  {
   "cell_type": "markdown",
   "metadata": {},
   "source": [
    "## 2. Data loading and cleaning"
   ]
  },
  {
   "cell_type": "code",
   "execution_count": 1,
   "metadata": {},
   "outputs": [],
   "source": [
    "data = \"gs://killthehw/notebooks/\""
   ]
  },
  {
   "cell_type": "code",
   "execution_count": 2,
   "metadata": {},
   "outputs": [],
   "source": [
    "shelter_original = spark.read.format(\"csv\")\\\n",
    "  .option(\"header\", \"true\")\\\n",
    "  .option(\"inferSchema\", \"true\")\\\n",
    "  .load(data + \"aac_shelter_outcomes.csv\")"
   ]
  },
  {
   "cell_type": "code",
   "execution_count": 3,
   "metadata": {
    "scrolled": true
   },
   "outputs": [
    {
     "name": "stdout",
     "output_type": "stream",
     "text": [
      "+----------------+---------+-----------+-----------------------+------------+-------------------+-------------------+-------------------+-------+---------------+------------+----------------+\n",
      "|age_upon_outcome|animal_id|animal_type|breed                  |color       |date_of_birth      |datetime           |monthyear          |name   |outcome_subtype|outcome_type|sex_upon_outcome|\n",
      "+----------------+---------+-----------+-----------------------+------------+-------------------+-------------------+-------------------+-------+---------------+------------+----------------+\n",
      "|2 weeks         |A684346  |Cat        |Domestic Shorthair Mix |Orange Tabby|2014-07-07 00:00:00|2014-07-22 16:04:00|2014-07-22 16:04:00|null   |Partner        |Transfer    |Intact Male     |\n",
      "|1 year          |A666430  |Dog        |Beagle Mix             |White/Brown |2012-11-06 00:00:00|2013-11-07 11:47:00|2013-11-07 11:47:00|Lucy   |Partner        |Transfer    |Spayed Female   |\n",
      "|1 year          |A675708  |Dog        |Pit Bull               |Blue/White  |2013-03-31 00:00:00|2014-06-03 14:20:00|2014-06-03 14:20:00|*Johnny|null           |Adoption    |Neutered Male   |\n",
      "|9 years         |A680386  |Dog        |Miniature Schnauzer Mix|White       |2005-06-02 00:00:00|2014-06-15 15:50:00|2014-06-15 15:50:00|Monday |Partner        |Transfer    |Neutered Male   |\n",
      "|5 months        |A683115  |Other      |Bat Mix                |Brown       |2014-01-07 00:00:00|2014-07-07 14:04:00|2014-07-07 14:04:00|null   |Rabies Risk    |Euthanasia  |Unknown         |\n",
      "+----------------+---------+-----------+-----------------------+------------+-------------------+-------------------+-------------------+-------+---------------+------------+----------------+\n",
      "only showing top 5 rows\n",
      "\n",
      "root\n",
      " |-- age_upon_outcome: string (nullable = true)\n",
      " |-- animal_id: string (nullable = true)\n",
      " |-- animal_type: string (nullable = true)\n",
      " |-- breed: string (nullable = true)\n",
      " |-- color: string (nullable = true)\n",
      " |-- date_of_birth: timestamp (nullable = true)\n",
      " |-- datetime: timestamp (nullable = true)\n",
      " |-- monthyear: timestamp (nullable = true)\n",
      " |-- name: string (nullable = true)\n",
      " |-- outcome_subtype: string (nullable = true)\n",
      " |-- outcome_type: string (nullable = true)\n",
      " |-- sex_upon_outcome: string (nullable = true)\n",
      "\n"
     ]
    }
   ],
   "source": [
    "shelter_original.show(5, False)\n",
    "shelter_original.printSchema()"
   ]
  },
  {
   "cell_type": "markdown",
   "metadata": {},
   "source": [
    "We only keep dogs and cats in our research."
   ]
  },
  {
   "cell_type": "code",
   "execution_count": 4,
   "metadata": {},
   "outputs": [],
   "source": [
    "from pyspark.sql.functions import col\n",
    "dog_cat_shelterdata = shelter_original.where((col(\"animal_type\")==\"Dog\")|(col(\"animal_type\")==\"Cat\"))"
   ]
  },
  {
   "cell_type": "code",
   "execution_count": 5,
   "metadata": {},
   "outputs": [
    {
     "name": "stdout",
     "output_type": "stream",
     "text": [
      "+----------------+---------+-----------+--------------------+------------+-------------------+-------------------+-------------------+-------+---------------+------------+----------------+\n",
      "|age_upon_outcome|animal_id|animal_type|               breed|       color|      date_of_birth|           datetime|          monthyear|   name|outcome_subtype|outcome_type|sex_upon_outcome|\n",
      "+----------------+---------+-----------+--------------------+------------+-------------------+-------------------+-------------------+-------+---------------+------------+----------------+\n",
      "|         2 weeks|  A684346|        Cat|Domestic Shorthai...|Orange Tabby|2014-07-07 00:00:00|2014-07-22 16:04:00|2014-07-22 16:04:00|   null|        Partner|    Transfer|     Intact Male|\n",
      "|          1 year|  A666430|        Dog|          Beagle Mix| White/Brown|2012-11-06 00:00:00|2013-11-07 11:47:00|2013-11-07 11:47:00|   Lucy|        Partner|    Transfer|   Spayed Female|\n",
      "|          1 year|  A675708|        Dog|            Pit Bull|  Blue/White|2013-03-31 00:00:00|2014-06-03 14:20:00|2014-06-03 14:20:00|*Johnny|           null|    Adoption|   Neutered Male|\n",
      "|         9 years|  A680386|        Dog|Miniature Schnauz...|       White|2005-06-02 00:00:00|2014-06-15 15:50:00|2014-06-15 15:50:00| Monday|        Partner|    Transfer|   Neutered Male|\n",
      "|        4 months|  A664462|        Dog|      Leonberger Mix| Brown/White|2013-06-03 00:00:00|2013-10-07 13:06:00|2013-10-07 13:06:00| *Edgar|        Partner|    Transfer|     Intact Male|\n",
      "+----------------+---------+-----------+--------------------+------------+-------------------+-------------------+-------------------+-------+---------------+------------+----------------+\n",
      "only showing top 5 rows\n",
      "\n"
     ]
    }
   ],
   "source": [
    "dog_cat_shelterdata.show(5)"
   ]
  },
  {
   "cell_type": "code",
   "execution_count": 6,
   "metadata": {
    "scrolled": true
   },
   "outputs": [
    {
     "name": "stdout",
     "output_type": "stream",
     "text": [
      "+----------------+---------+-----------+--------------------+------------+-------------------+-------------------+-------------------+-------+---------------+------------+----------------+\n",
      "|age_upon_outcome|animal_id|animal_type|               breed|       color|      date_of_birth|           datetime|          monthyear|   name|outcome_subtype|outcome_type|sex_upon_outcome|\n",
      "+----------------+---------+-----------+--------------------+------------+-------------------+-------------------+-------------------+-------+---------------+------------+----------------+\n",
      "|              15|  A684346|        Cat|Domestic Shorthai...|Orange Tabby|2014-07-07 00:00:00|2014-07-22 16:04:00|2014-07-22 16:04:00|   null|        Partner|    Transfer|     Intact Male|\n",
      "|             366|  A666430|        Dog|          Beagle Mix| White/Brown|2012-11-06 00:00:00|2013-11-07 11:47:00|2013-11-07 11:47:00|   Lucy|        Partner|    Transfer|   Spayed Female|\n",
      "|             429|  A675708|        Dog|            Pit Bull|  Blue/White|2013-03-31 00:00:00|2014-06-03 14:20:00|2014-06-03 14:20:00|*Johnny|           null|    Adoption|   Neutered Male|\n",
      "|            3300|  A680386|        Dog|Miniature Schnauz...|       White|2005-06-02 00:00:00|2014-06-15 15:50:00|2014-06-15 15:50:00| Monday|        Partner|    Transfer|   Neutered Male|\n",
      "|             126|  A664462|        Dog|      Leonberger Mix| Brown/White|2013-06-03 00:00:00|2013-10-07 13:06:00|2013-10-07 13:06:00| *Edgar|        Partner|    Transfer|     Intact Male|\n",
      "+----------------+---------+-----------+--------------------+------------+-------------------+-------------------+-------------------+-------+---------------+------------+----------------+\n",
      "only showing top 5 rows\n",
      "\n"
     ]
    }
   ],
   "source": [
    "# manually calculate animal age and drop column \"age_upon_outcome\", because the given data is not precise\n",
    "\n",
    "from pyspark.sql.functions import datediff, to_date, lit\n",
    "dog_cat_shelterdata = dog_cat_shelterdata.withColumn(\"age_upon_outcome\", datediff(to_date(\"monthyear\",\"yyyy-MM-dd'T'HH:mm:ss\"),to_date(\"date_of_birth\",\"yyyy-MM-dd'T'HH:mm:ss\")))\n",
    "dog_cat_shelterdata.show(5)"
   ]
  },
  {
   "cell_type": "code",
   "execution_count": 7,
   "metadata": {},
   "outputs": [
    {
     "data": {
      "text/plain": [
       "['age_upon_outcome',\n",
       " 'animal_id',\n",
       " 'animal_type',\n",
       " 'breed',\n",
       " 'color',\n",
       " 'date_of_birth',\n",
       " 'monthyear',\n",
       " 'name',\n",
       " 'outcome_subtype',\n",
       " 'outcome_type',\n",
       " 'sex_upon_outcome']"
      ]
     },
     "execution_count": 7,
     "metadata": {},
     "output_type": "execute_result"
    }
   ],
   "source": [
    "# drop column \"datetime\", which is duplicate of column \"monthyear\"\n",
    "\n",
    "dog_cat_shelterdata = dog_cat_shelterdata.drop(\"datetime\")\n",
    "dog_cat_shelterdata.columns"
   ]
  },
  {
   "cell_type": "code",
   "execution_count": 8,
   "metadata": {},
   "outputs": [
    {
     "name": "stdout",
     "output_type": "stream",
     "text": [
      "The number of records now is 73663.\n"
     ]
    }
   ],
   "source": [
    "# drop records where breed is unknown\n",
    "\n",
    "dog_cat_shelterdata = dog_cat_shelterdata.where(col(\"breed\")!=\"Unknown Mix\")\n",
    "print(\"The number of records now is {}.\".format(dog_cat_shelterdata.count()))"
   ]
  },
  {
   "cell_type": "code",
   "execution_count": 9,
   "metadata": {},
   "outputs": [
    {
     "name": "stdout",
     "output_type": "stream",
     "text": [
      "The number of records now is 73656.\n"
     ]
    }
   ],
   "source": [
    "# drop records where outcome type is unknown\n",
    "\n",
    "dog_cat_shelterdata = dog_cat_shelterdata.where((col(\"outcome_type\")!=\"Unknown\")&(col(\"outcome_type\")!=\"\"))\n",
    "dog_cat_shelterdata = dog_cat_shelterdata.na.drop(\"all\", subset=[\"outcome_type\"])\n",
    "print(\"The number of records now is {}.\".format(dog_cat_shelterdata.count()))"
   ]
  },
  {
   "cell_type": "code",
   "execution_count": 10,
   "metadata": {},
   "outputs": [
    {
     "name": "stdout",
     "output_type": "stream",
     "text": [
      "The number of records now is 70892.\n"
     ]
    }
   ],
   "source": [
    "# drop records where sex_upon_outcome is unknown\n",
    "\n",
    "dog_cat_shelterdata = dog_cat_shelterdata.where((col(\"sex_upon_outcome\")!=\"Unknown\")&(col(\"sex_upon_outcome\")!=\"\"))\n",
    "dog_cat_shelterdata = dog_cat_shelterdata.na.drop(\"all\", subset=[\"sex_upon_outcome\"])\n",
    "print(\"The number of records now is {}.\".format(dog_cat_shelterdata.count()))"
   ]
  },
  {
   "cell_type": "code",
   "execution_count": 11,
   "metadata": {},
   "outputs": [
    {
     "name": "stdout",
     "output_type": "stream",
     "text": [
      "The number of records now is 70885.\n"
     ]
    }
   ],
   "source": [
    "# drop records where the arrival time is before date of birth\n",
    "\n",
    "dog_cat_shelterdata = dog_cat_shelterdata.where(col(\"date_of_birth\")<=col(\"monthyear\"))\n",
    "print(\"The number of records now is {}.\".format(dog_cat_shelterdata.count()))"
   ]
  },
  {
   "cell_type": "code",
   "execution_count": 12,
   "metadata": {
    "scrolled": true
   },
   "outputs": [
    {
     "name": "stdout",
     "output_type": "stream",
     "text": [
      "+----------------+---------+-----------+--------------------+------------+-------------------+-------------------+-------+---------------+------------+----------------+------------+------+\n",
      "|age_upon_outcome|animal_id|animal_type|               breed|       color|      date_of_birth|          monthyear|   name|outcome_subtype|outcome_type|sex_upon_outcome|reproduction|   sex|\n",
      "+----------------+---------+-----------+--------------------+------------+-------------------+-------------------+-------+---------------+------------+----------------+------------+------+\n",
      "|              15|  A684346|        Cat|Domestic Shorthai...|Orange Tabby|2014-07-07 00:00:00|2014-07-22 16:04:00|   null|        Partner|    Transfer|     Intact Male|      Intact|  Male|\n",
      "|             366|  A666430|        Dog|          Beagle Mix| White/Brown|2012-11-06 00:00:00|2013-11-07 11:47:00|   Lucy|        Partner|    Transfer|   Spayed Female|      Spayed|Female|\n",
      "|             429|  A675708|        Dog|            Pit Bull|  Blue/White|2013-03-31 00:00:00|2014-06-03 14:20:00|*Johnny|           null|    Adoption|   Neutered Male|    Neutered|  Male|\n",
      "|            3300|  A680386|        Dog|Miniature Schnauz...|       White|2005-06-02 00:00:00|2014-06-15 15:50:00| Monday|        Partner|    Transfer|   Neutered Male|    Neutered|  Male|\n",
      "|             126|  A664462|        Dog|      Leonberger Mix| Brown/White|2013-06-03 00:00:00|2013-10-07 13:06:00| *Edgar|        Partner|    Transfer|     Intact Male|      Intact|  Male|\n",
      "+----------------+---------+-----------+--------------------+------------+-------------------+-------------------+-------+---------------+------------+----------------+------------+------+\n",
      "only showing top 5 rows\n",
      "\n"
     ]
    }
   ],
   "source": [
    "# split the sex_upon_outcome column into two new columns: \"reproduction\" and \"sex\"\n",
    "\n",
    "from pyspark.sql.functions import split\n",
    "split_col = split(dog_cat_shelterdata[\"sex_upon_outcome\"], \" \")\n",
    "dog_cat_shelterdata = dog_cat_shelterdata.withColumn('reproduction', split_col.getItem(0))\n",
    "dog_cat_shelterdata = dog_cat_shelterdata.withColumn('sex', split_col.getItem(1))\n",
    "dog_cat_shelterdata.drop(col(\"sex_upon_outcome\"))\n",
    "dog_cat_shelterdata.show(5)"
   ]
  },
  {
   "cell_type": "code",
   "execution_count": 13,
   "metadata": {},
   "outputs": [
    {
     "name": "stdout",
     "output_type": "stream",
     "text": [
      "The number of records now is 70884.\n"
     ]
    }
   ],
   "source": [
    "# drop records where sex is null\n",
    "\n",
    "dog_cat_shelterdata = dog_cat_shelterdata.where(col(\"sex\")!=\"NULL\")\n",
    "print(\"The number of records now is {}.\".format(dog_cat_shelterdata.count()))"
   ]
  },
  {
   "cell_type": "code",
   "execution_count": 14,
   "metadata": {
    "scrolled": true
   },
   "outputs": [
    {
     "name": "stdout",
     "output_type": "stream",
     "text": [
      "+----------------+---------+-----------+-------------------+------------+-------------------+-------------------+-------+---------------+------------+----------------+------------+------+\n",
      "|age_upon_outcome|animal_id|animal_type|              breed|       color|      date_of_birth|          monthyear|   name|outcome_subtype|outcome_type|sex_upon_outcome|reproduction|   sex|\n",
      "+----------------+---------+-----------+-------------------+------------+-------------------+-------------------+-------+---------------+------------+----------------+------------+------+\n",
      "|              15|  A684346|        Cat| Domestic Shorthair|Orange Tabby|2014-07-07 00:00:00|2014-07-22 16:04:00|   null|        Partner|    Transfer|     Intact Male|      Intact|  Male|\n",
      "|             366|  A666430|        Dog|             Beagle| White/Brown|2012-11-06 00:00:00|2013-11-07 11:47:00|   Lucy|        Partner|    Transfer|   Spayed Female|      Spayed|Female|\n",
      "|             429|  A675708|        Dog|           Pit Bull|  Blue/White|2013-03-31 00:00:00|2014-06-03 14:20:00|*Johnny|           null|    Adoption|   Neutered Male|    Neutered|  Male|\n",
      "|            3300|  A680386|        Dog|Miniature Schnauzer|       White|2005-06-02 00:00:00|2014-06-15 15:50:00| Monday|        Partner|    Transfer|   Neutered Male|    Neutered|  Male|\n",
      "|             126|  A664462|        Dog|         Leonberger| Brown/White|2013-06-03 00:00:00|2013-10-07 13:06:00| *Edgar|        Partner|    Transfer|     Intact Male|      Intact|  Male|\n",
      "+----------------+---------+-----------+-------------------+------------+-------------------+-------------------+-------+---------------+------------+----------------+------------+------+\n",
      "only showing top 5 rows\n",
      "\n"
     ]
    }
   ],
   "source": [
    "# delete \"mix\" in breed variable for further operation, because we do not take inter-breed mix into consideration\n",
    "\n",
    "from pyspark.sql.functions import *\n",
    "# dog_cat_no_mix = dog_cat_shelterdata.withColumn(\"breed\", regexp_replace(col(\"breed\"), \"\\\\ Mix\", \"\"))\n",
    "dog_cat_no_mix = dog_cat_shelterdata.withColumn(\"breed\", regexp_replace(\"breed\", \" Mix\", \"\"))\n",
    "dog_cat_no_mix.show(5)"
   ]
  },
  {
   "cell_type": "code",
   "execution_count": 15,
   "metadata": {
    "scrolled": false
   },
   "outputs": [
    {
     "name": "stdout",
     "output_type": "stream",
     "text": [
      "+----------------+---------+-----------+--------------------+------------+-------------------+-------------------+-------+---------------+------------+----------------+------------+------+---------+\n",
      "|age_upon_outcome|animal_id|animal_type|               breed|       color|      date_of_birth|          monthyear|   name|outcome_subtype|outcome_type|sex_upon_outcome|reproduction|   sex|color_num|\n",
      "+----------------+---------+-----------+--------------------+------------+-------------------+-------------------+-------+---------------+------------+----------------+------------+------+---------+\n",
      "|              15|  A684346|        Cat|Domestic Shorthai...|Orange Tabby|2014-07-07 00:00:00|2014-07-22 16:04:00|   null|        Partner|    Transfer|     Intact Male|      Intact|  Male|        1|\n",
      "|             366|  A666430|        Dog|          Beagle Mix| White/Brown|2012-11-06 00:00:00|2013-11-07 11:47:00|   Lucy|        Partner|    Transfer|   Spayed Female|      Spayed|Female|        2|\n",
      "|             429|  A675708|        Dog|            Pit Bull|  Blue/White|2013-03-31 00:00:00|2014-06-03 14:20:00|*Johnny|           null|    Adoption|   Neutered Male|    Neutered|  Male|        2|\n",
      "|            3300|  A680386|        Dog|Miniature Schnauz...|       White|2005-06-02 00:00:00|2014-06-15 15:50:00| Monday|        Partner|    Transfer|   Neutered Male|    Neutered|  Male|        1|\n",
      "|             126|  A664462|        Dog|      Leonberger Mix| Brown/White|2013-06-03 00:00:00|2013-10-07 13:06:00| *Edgar|        Partner|    Transfer|     Intact Male|      Intact|  Male|        2|\n",
      "+----------------+---------+-----------+--------------------+------------+-------------------+-------------------+-------+---------------+------------+----------------+------------+------+---------+\n",
      "only showing top 5 rows\n",
      "\n"
     ]
    }
   ],
   "source": [
    "# calculate the number of colors according to number of \"/\" in color variable. Be aware of \"Tricolor\"!\n",
    "\n",
    "dog_cat_shelterdata = dog_cat_shelterdata.withColumn(\"color_new\", regexp_replace(\"color\", \"Tricolor\", \"//\"))\n",
    "dog_cat_shelterdata = dog_cat_shelterdata.withColumn(\"color_num\", length(regexp_replace(\"color_new\", '[a-zA-Z\\s]', \"\"))+1).drop(col(\"color_new\"))\n",
    "dog_cat_shelterdata.show(5)"
   ]
  },
  {
   "cell_type": "code",
   "execution_count": 16,
   "metadata": {},
   "outputs": [],
   "source": [
    "# create a column \"is_sc\" to see if the animal has single color\n",
    "\n",
    "dog_cat_shelterdata = dog_cat_shelterdata.withColumn(\"is_sc\", when(dog_cat_shelterdata[\"color_num\"]==1, 1).otherwise(0))"
   ]
  },
  {
   "cell_type": "code",
   "execution_count": 17,
   "metadata": {
    "scrolled": true
   },
   "outputs": [
    {
     "name": "stdout",
     "output_type": "stream",
     "text": [
      "+----------------+---------+-----------+--------------------+------------+-------------------+-------------------+------+---------------+------------+----------------+------------+------+---------+-----+\n",
      "|age_upon_outcome|animal_id|animal_type|               breed|       color|      date_of_birth|          monthyear|  name|outcome_subtype|outcome_type|sex_upon_outcome|reproduction|   sex|color_num|is_sc|\n",
      "+----------------+---------+-----------+--------------------+------------+-------------------+-------------------+------+---------------+------------+----------------+------------+------+---------+-----+\n",
      "|              15|  A684346|        Cat|Domestic Shorthai...|Orange Tabby|2014-07-07 00:00:00|2014-07-22 16:04:00|  null|        Partner|    Transfer|     Intact Male|      Intact|  Male|        1|    1|\n",
      "|             366|  A666430|        Dog|          Beagle Mix| White/Brown|2012-11-06 00:00:00|2013-11-07 11:47:00|  Lucy|        Partner|    Transfer|   Spayed Female|      Spayed|Female|        2|    0|\n",
      "|             429|  A675708|        Dog|            Pit Bull|  Blue/White|2013-03-31 00:00:00|2014-06-03 14:20:00|Johnny|           null|    Adoption|   Neutered Male|    Neutered|  Male|        2|    0|\n",
      "|            3300|  A680386|        Dog|Miniature Schnauz...|       White|2005-06-02 00:00:00|2014-06-15 15:50:00|Monday|        Partner|    Transfer|   Neutered Male|    Neutered|  Male|        1|    1|\n",
      "|             126|  A664462|        Dog|      Leonberger Mix| Brown/White|2013-06-03 00:00:00|2013-10-07 13:06:00| Edgar|        Partner|    Transfer|     Intact Male|      Intact|  Male|        2|    0|\n",
      "+----------------+---------+-----------+--------------------+------------+-------------------+-------------------+------+---------------+------------+----------------+------------+------+---------+-----+\n",
      "only showing top 5 rows\n",
      "\n"
     ]
    }
   ],
   "source": [
    "# delete \"*\" in names\n",
    "\n",
    "dog_cat_shelterdata = dog_cat_shelterdata.withColumn(\"name\", regexp_replace(\"name\", '[*]', \"\"))\n",
    "dog_cat_shelterdata.show(5)"
   ]
  },
  {
   "cell_type": "code",
   "execution_count": 18,
   "metadata": {},
   "outputs": [
    {
     "data": {
      "text/plain": [
       "['age_upon_outcome',\n",
       " 'animal_id',\n",
       " 'animal_type',\n",
       " 'breed',\n",
       " 'color',\n",
       " 'date_of_birth',\n",
       " 'monthyear',\n",
       " 'name',\n",
       " 'outcome_subtype',\n",
       " 'outcome_type',\n",
       " 'sex_upon_outcome',\n",
       " 'reproduction',\n",
       " 'sex',\n",
       " 'color_num',\n",
       " 'is_sc']"
      ]
     },
     "execution_count": 18,
     "metadata": {},
     "output_type": "execute_result"
    }
   ],
   "source": [
    "# check the columns\n",
    "\n",
    "dog_cat_shelterdata.columns"
   ]
  },
  {
   "cell_type": "markdown",
   "metadata": {},
   "source": [
    "## 3. Exploratory data analysis"
   ]
  },
  {
   "cell_type": "markdown",
   "metadata": {},
   "source": [
    "We copy the dataset to a new dataframe named \"dog_cat_shelterdata_for_eda\" to avoid unexpected changes in the clean dataset."
   ]
  },
  {
   "cell_type": "code",
   "execution_count": 19,
   "metadata": {},
   "outputs": [
    {
     "name": "stdout",
     "output_type": "stream",
     "text": [
      "+----------------+---------+-----------+--------------------+------------+-------------------+-------------------+------+---------------+------------+----------------+------------+------+---------+-----+\n",
      "|age_upon_outcome|animal_id|animal_type|               breed|       color|      date_of_birth|          monthyear|  name|outcome_subtype|outcome_type|sex_upon_outcome|reproduction|   sex|color_num|is_sc|\n",
      "+----------------+---------+-----------+--------------------+------------+-------------------+-------------------+------+---------------+------------+----------------+------------+------+---------+-----+\n",
      "|              15|  A684346|        Cat|Domestic Shorthai...|Orange Tabby|2014-07-07 00:00:00|2014-07-22 16:04:00|  null|        Partner|    Transfer|     Intact Male|      Intact|  Male|        1|    1|\n",
      "|             366|  A666430|        Dog|          Beagle Mix| White/Brown|2012-11-06 00:00:00|2013-11-07 11:47:00|  Lucy|        Partner|    Transfer|   Spayed Female|      Spayed|Female|        2|    0|\n",
      "|             429|  A675708|        Dog|            Pit Bull|  Blue/White|2013-03-31 00:00:00|2014-06-03 14:20:00|Johnny|           null|    Adoption|   Neutered Male|    Neutered|  Male|        2|    0|\n",
      "|            3300|  A680386|        Dog|Miniature Schnauz...|       White|2005-06-02 00:00:00|2014-06-15 15:50:00|Monday|        Partner|    Transfer|   Neutered Male|    Neutered|  Male|        1|    1|\n",
      "|             126|  A664462|        Dog|      Leonberger Mix| Brown/White|2013-06-03 00:00:00|2013-10-07 13:06:00| Edgar|        Partner|    Transfer|     Intact Male|      Intact|  Male|        2|    0|\n",
      "+----------------+---------+-----------+--------------------+------------+-------------------+-------------------+------+---------------+------------+----------------+------------+------+---------+-----+\n",
      "only showing top 5 rows\n",
      "\n"
     ]
    }
   ],
   "source": [
    "dog_cat_shelterdata_for_eda = dog_cat_shelterdata\n",
    "dog_cat_shelterdata_for_eda.show(5)"
   ]
  },
  {
   "cell_type": "markdown",
   "metadata": {},
   "source": [
    "## 3.1 Basic summary"
   ]
  },
  {
   "cell_type": "markdown",
   "metadata": {},
   "source": [
    "### 3.1.1 Top Names that are adopted for Cats and Dogs"
   ]
  },
  {
   "cell_type": "code",
   "execution_count": 20,
   "metadata": {},
   "outputs": [
    {
     "name": "stdout",
     "output_type": "stream",
     "text": [
      "+-------+-----+\n",
      "|   name|count|\n",
      "+-------+-----+\n",
      "|Charlie|   59|\n",
      "|   Luna|   53|\n",
      "|  Bella|   51|\n",
      "|   Lucy|   41|\n",
      "| Oliver|   40|\n",
      "|  Molly|   36|\n",
      "|    Leo|   35|\n",
      "|  Daisy|   33|\n",
      "| Smokey|   32|\n",
      "|  Tiger|   30|\n",
      "|  Kitty|   30|\n",
      "|   Jack|   30|\n",
      "|   Lily|   30|\n",
      "|   Blue|   29|\n",
      "|    Max|   29|\n",
      "| Ginger|   27|\n",
      "|    Mia|   27|\n",
      "| Sophie|   27|\n",
      "|   Milo|   27|\n",
      "|   Rose|   24|\n",
      "+-------+-----+\n",
      "only showing top 20 rows\n",
      "\n"
     ]
    }
   ],
   "source": [
    "from pyspark.sql.functions import desc, asc\n",
    "\n",
    "adoptionhappy_catname = dog_cat_shelterdata_for_eda.select(\"animal_type\",\"name\",\"outcome_type\")\\\n",
    "    .where(col(\"animal_type\")==\"Cat\")\\\n",
    "    .where(col(\"name\")!=\"Null\")\\\n",
    "    .where(col(\"outcome_type\")==\"Adoption\")\\\n",
    "    .groupBy(col(\"name\"))\\\n",
    "    .count()\\\n",
    "    .orderBy(col(\"count\").desc())\\\n",
    "    .show()"
   ]
  },
  {
   "cell_type": "markdown",
   "metadata": {},
   "source": [
    "### 3.1.2 Top animal Dog names which were adopted"
   ]
  },
  {
   "cell_type": "code",
   "execution_count": 21,
   "metadata": {},
   "outputs": [
    {
     "name": "stdout",
     "output_type": "stream",
     "text": [
      "+--------+-----+\n",
      "|    name|count|\n",
      "+--------+-----+\n",
      "|     Max|  131|\n",
      "|   Bella|  125|\n",
      "|   Daisy|  113|\n",
      "|    Luna|  111|\n",
      "| Charlie|  100|\n",
      "|    Lucy|   96|\n",
      "|   Buddy|   90|\n",
      "|    Lola|   82|\n",
      "|Princess|   76|\n",
      "|   Rocky|   75|\n",
      "|   Sadie|   67|\n",
      "|    Jack|   64|\n",
      "|    Coco|   62|\n",
      "|   Molly|   60|\n",
      "|   Penny|   60|\n",
      "|  Ginger|   55|\n",
      "|  Maggie|   54|\n",
      "|    Blue|   54|\n",
      "|    Toby|   52|\n",
      "|    Milo|   52|\n",
      "+--------+-----+\n",
      "only showing top 20 rows\n",
      "\n"
     ]
    }
   ],
   "source": [
    "adoptionhappy_dogname = dog_cat_shelterdata_for_eda.select(\"animal_type\",\"name\",\"outcome_type\")\\\n",
    "    .where(col(\"animal_type\")==\"Dog\")\\\n",
    "    .where(col(\"name\")!=\"Null\")\\\n",
    "    .where(col(\"outcome_type\")==\"Adoption\")\\\n",
    "    .groupBy(col(\"name\"))\\\n",
    "    .count()\\\n",
    "    .orderBy(col(\"count\").desc())\\\n",
    "    .show()"
   ]
  },
  {
   "cell_type": "markdown",
   "metadata": {},
   "source": [
    "### 3.1.3 Top 10 female Dog colors which were adopted"
   ]
  },
  {
   "cell_type": "code",
   "execution_count": 22,
   "metadata": {
    "scrolled": true
   },
   "outputs": [
    {
     "name": "stdout",
     "output_type": "stream",
     "text": [
      "+-----------+-----+\n",
      "|      color|count|\n",
      "+-----------+-----+\n",
      "|Black/White| 1255|\n",
      "|  Tan/White|  538|\n",
      "|      Black|  509|\n",
      "|Brown/White|  505|\n",
      "|   Tricolor|  463|\n",
      "|        Tan|  459|\n",
      "|      White|  456|\n",
      "|  Black/Tan|  394|\n",
      "|White/Black|  374|\n",
      "|      Brown|  342|\n",
      "+-----------+-----+\n",
      "only showing top 10 rows\n",
      "\n"
     ]
    }
   ],
   "source": [
    "attractivecolorsfemaledog = dog_cat_shelterdata_for_eda.select(\"animal_type\",\"color\",\"sex\",\"color_num\",\"outcome_type\")\\\n",
    "    .where(col(\"sex\")==\"Female\")\\\n",
    "    .where(col(\"animal_type\")==\"Dog\")\\\n",
    "    .where(col(\"outcome_type\")==\"Adoption\")\\\n",
    "    .groupBy(col(\"color\"))\\\n",
    "    .count()\\\n",
    "    .orderBy(col(\"count\").desc())\\\n",
    "    .show(10)"
   ]
  },
  {
   "cell_type": "markdown",
   "metadata": {},
   "source": [
    "### 3.1.4 Top 10 male Dog colors which were adopted"
   ]
  },
  {
   "cell_type": "code",
   "execution_count": 23,
   "metadata": {
    "scrolled": true
   },
   "outputs": [
    {
     "name": "stdout",
     "output_type": "stream",
     "text": [
      "+-----------+-----+\n",
      "|      color|count|\n",
      "+-----------+-----+\n",
      "|Black/White| 1236|\n",
      "|  Tan/White|  586|\n",
      "|Brown/White|  560|\n",
      "|      Black|  553|\n",
      "|   Tricolor|  474|\n",
      "|  Black/Tan|  461|\n",
      "|      White|  451|\n",
      "|        Tan|  431|\n",
      "|      Brown|  416|\n",
      "|Black/Brown|  349|\n",
      "+-----------+-----+\n",
      "only showing top 10 rows\n",
      "\n"
     ]
    }
   ],
   "source": [
    "attractivecolorsmaledogs = dog_cat_shelterdata_for_eda.select(\"animal_type\",\"color\",\"sex\",\"color_num\",\"outcome_type\")\\\n",
    "    .where(col(\"sex\")==\"Male\")\\\n",
    "    .where(col(\"animal_type\")==\"Dog\")\\\n",
    "    .where(col(\"outcome_type\")==\"Adoption\")\\\n",
    "    .groupBy(col(\"color\"))\\\n",
    "    .count()\\\n",
    "    .orderBy(col(\"count\").desc())\\\n",
    "    .show(10)"
   ]
  },
  {
   "cell_type": "markdown",
   "metadata": {},
   "source": [
    "### 3.1.5 Which are the most desireable female Dogs adopted with potential mating ability?"
   ]
  },
  {
   "cell_type": "code",
   "execution_count": 24,
   "metadata": {},
   "outputs": [
    {
     "name": "stdout",
     "output_type": "stream",
     "text": [
      "+-------------------------+-----+\n",
      "|breed                    |count|\n",
      "+-------------------------+-----+\n",
      "|Labrador Retriever Mix   |36   |\n",
      "|Chihuahua Shorthair Mix  |29   |\n",
      "|Pit Bull Mix             |27   |\n",
      "|German Shepherd Mix      |12   |\n",
      "|Australian Cattle Dog Mix|12   |\n",
      "|Border Collie Mix        |8    |\n",
      "|Siberian Husky Mix       |5    |\n",
      "|Chihuahua Shorthair      |5    |\n",
      "|Dachshund Mix            |5    |\n",
      "|Miniature Poodle Mix     |5    |\n",
      "+-------------------------+-----+\n",
      "only showing top 10 rows\n",
      "\n"
     ]
    }
   ],
   "source": [
    "adoptionbutkeepitonplease = dog_cat_shelterdata_for_eda.select(\"animal_type\",\"breed\",\"outcome_type\",\"reproduction\",\"sex\")\\\n",
    "    .where(col(\"animal_type\")==\"Dog\")\\\n",
    "    .where(col(\"sex\")==\"Female\")\\\n",
    "    .where(col(\"reproduction\")==\"Intact\")\\\n",
    "    .where(col(\"outcome_type\")==\"Adoption\")\\\n",
    "    .groupBy(col(\"breed\"))\\\n",
    "    .count()\\\n",
    "    .orderBy(col(\"count\").desc())\\\n",
    "    .show(10, False)"
   ]
  },
  {
   "cell_type": "markdown",
   "metadata": {},
   "source": [
    "### 3.1.6 Animals with high need for foster care"
   ]
  },
  {
   "cell_type": "code",
   "execution_count": 25,
   "metadata": {},
   "outputs": [
    {
     "name": "stdout",
     "output_type": "stream",
     "text": [
      "+-------------------------+-----+\n",
      "|breed                    |count|\n",
      "+-------------------------+-----+\n",
      "|Labrador Retriever Mix   |288  |\n",
      "|Chihuahua Shorthair Mix  |223  |\n",
      "|Pit Bull Mix             |222  |\n",
      "|German Shepherd Mix      |86   |\n",
      "|Australian Cattle Dog Mix|84   |\n",
      "|Border Collie Mix        |47   |\n",
      "|Boxer Mix                |41   |\n",
      "|Australian Shepherd Mix  |41   |\n",
      "|Catahoula Mix            |40   |\n",
      "|Dachshund Mix            |39   |\n",
      "+-------------------------+-----+\n",
      "only showing top 10 rows\n",
      "\n"
     ]
    }
   ],
   "source": [
    "fosteranimals = dog_cat_shelterdata_for_eda.select(\"animal_type\",\"breed\",\"outcome_subtype\")\\\n",
    "    .where(col(\"animal_type\")==\"Dog\")\\\n",
    "    .where(col(\"outcome_subtype\")==\"Foster\")\\\n",
    "    .groupBy(col(\"breed\"))\\\n",
    "    .count()\\\n",
    "    .orderBy(col(\"count\").desc())\\\n",
    "    .show(10, False)"
   ]
  },
  {
   "cell_type": "markdown",
   "metadata": {},
   "source": [
    "### 3.1.7 Distinct number of breeds that entered the shelter"
   ]
  },
  {
   "cell_type": "code",
   "execution_count": 26,
   "metadata": {},
   "outputs": [
    {
     "name": "stdout",
     "output_type": "stream",
     "text": [
      "Distinct number of breeds that entered the shelter is 1970.\n"
     ]
    }
   ],
   "source": [
    "breed_num = dog_cat_shelterdata_for_eda.select(\"breed\").distinct().count()\n",
    "print(\"Distinct number of breeds that entered the shelter is {}.\".format(breed_num))"
   ]
  },
  {
   "cell_type": "markdown",
   "metadata": {},
   "source": [
    "### 3.1.8 Percentage of adoptions that are foster adoptions"
   ]
  },
  {
   "cell_type": "code",
   "execution_count": 27,
   "metadata": {},
   "outputs": [
    {
     "name": "stdout",
     "output_type": "stream",
     "text": [
      "The percentage of adoptions that are foster adoptions is 16%.\n"
     ]
    }
   ],
   "source": [
    "import pyspark.sql.functions as func\n",
    "totalfosteradoptions = dog_cat_shelterdata_for_eda.where(col(\"outcome_subtype\") == \"Foster\").count()\n",
    "totaladoptions = dog_cat_shelterdata_for_eda.where(col(\"outcome_type\") == \"Adoption\").count()\n",
    "print(\"The percentage of adoptions that are foster adoptions is {}.\".format(str(int((totalfosteradoptions/totaladoptions)*100))+\"%\"))"
   ]
  },
  {
   "cell_type": "markdown",
   "metadata": {},
   "source": [
    "## 3.2 Data Visualization"
   ]
  },
  {
   "cell_type": "markdown",
   "metadata": {},
   "source": [
    "### 3.2.1 Age distribution"
   ]
  },
  {
   "cell_type": "markdown",
   "metadata": {},
   "source": [
    "We are given the birth date and outcome date of each animals records (some animal ids repeats many times). In order to understand the age distribution, we use the difference between birth date and outcome date as age of each animals records.     The intuition here is to find useful information, draw plots to visulize data and get meaningful takeaway of age."
   ]
  },
  {
   "cell_type": "code",
   "execution_count": 28,
   "metadata": {},
   "outputs": [
    {
     "name": "stdout",
     "output_type": "stream",
     "text": [
      "Collecting py4j\n",
      "\u001b[?25l  Downloading https://files.pythonhosted.org/packages/04/de/2d314a921ef4c20b283e1de94e0780273678caac901564df06b948e4ba9b/py4j-0.10.8.1-py2.py3-none-any.whl (196kB)\n",
      "\u001b[K    100% |████████████████████████████████| 204kB 28.5MB/s ta 0:00:01\n",
      "\u001b[31mpyspark 2.3.2 has requirement py4j==0.10.7, but you'll have py4j 0.10.8.1 which is incompatible.\u001b[0m\n",
      "\u001b[?25hInstalling collected packages: py4j\n",
      "Successfully installed py4j-0.10.8.1\n",
      "\u001b[33mYou are using pip version 10.0.1, however version 19.0.3 is available.\n",
      "You should consider upgrading via the 'pip install --upgrade pip' command.\u001b[0m\n",
      "Collecting pandas\n",
      "\u001b[?25l  Downloading https://files.pythonhosted.org/packages/19/74/e50234bc82c553fecdbd566d8650801e3fe2d6d8c8d940638e3d8a7c5522/pandas-0.24.2-cp36-cp36m-manylinux1_x86_64.whl (10.1MB)\n",
      "\u001b[K    100% |████████████████████████████████| 10.1MB 3.5MB/s eta 0:00:01\n",
      "\u001b[?25hRequirement already satisfied: numpy>=1.12.0 in /opt/conda/lib/python3.6/site-packages (from pandas) (1.16.2)\n",
      "Requirement already satisfied: pytz>=2011k in /opt/conda/lib/python3.6/site-packages (from pandas) (2018.9)\n",
      "Requirement already satisfied: python-dateutil>=2.5.0 in /opt/conda/lib/python3.6/site-packages (from pandas) (2.8.0)\n",
      "Requirement already satisfied: six>=1.5 in /opt/conda/lib/python3.6/site-packages (from python-dateutil>=2.5.0->pandas) (1.11.0)\n",
      "\u001b[31mpyspark 2.3.2 has requirement py4j==0.10.7, but you'll have py4j 0.10.8.1 which is incompatible.\u001b[0m\n",
      "Installing collected packages: pandas\n",
      "Successfully installed pandas-0.24.2\n",
      "\u001b[33mYou are using pip version 10.0.1, however version 19.0.3 is available.\n",
      "You should consider upgrading via the 'pip install --upgrade pip' command.\u001b[0m\n"
     ]
    }
   ],
   "source": [
    "!pip install py4j \n",
    "!pip install pandas\n",
    "import pandas as pd\n",
    "import matplotlib.pyplot as plt\n",
    "import numpy as np\n",
    "from matplotlib.patches import Polygon"
   ]
  },
  {
   "cell_type": "code",
   "execution_count": 29,
   "metadata": {},
   "outputs": [],
   "source": [
    "# make age boxplot to pd\n",
    "\n",
    "cat_eda = dog_cat_shelterdata_for_eda.select('age_upon_outcome').filter(dog_cat_shelterdata_for_eda['animal_type']=='Cat')\n",
    "catagepandas = cat_eda.toPandas()\n",
    "\n",
    "dog_eda = dog_cat_shelterdata_for_eda.select('age_upon_outcome').filter(dog_cat_shelterdata_for_eda['animal_type']=='Dog')\n",
    "dogagepandas = dog_eda.toPandas()"
   ]
  },
  {
   "cell_type": "code",
   "execution_count": 30,
   "metadata": {},
   "outputs": [
    {
     "data": {
      "text/html": [
       "<div>\n",
       "<style scoped>\n",
       "    .dataframe tbody tr th:only-of-type {\n",
       "        vertical-align: middle;\n",
       "    }\n",
       "\n",
       "    .dataframe tbody tr th {\n",
       "        vertical-align: top;\n",
       "    }\n",
       "\n",
       "    .dataframe thead th {\n",
       "        text-align: right;\n",
       "    }\n",
       "</style>\n",
       "<table border=\"1\" class=\"dataframe\">\n",
       "  <thead>\n",
       "    <tr style=\"text-align: right;\">\n",
       "      <th></th>\n",
       "      <th>age_upon_outcome</th>\n",
       "    </tr>\n",
       "  </thead>\n",
       "  <tbody>\n",
       "    <tr>\n",
       "      <th>count</th>\n",
       "      <td>26887.000000</td>\n",
       "    </tr>\n",
       "    <tr>\n",
       "      <th>mean</th>\n",
       "      <td>567.448916</td>\n",
       "    </tr>\n",
       "    <tr>\n",
       "      <th>std</th>\n",
       "      <td>1011.149658</td>\n",
       "    </tr>\n",
       "    <tr>\n",
       "      <th>min</th>\n",
       "      <td>0.000000</td>\n",
       "    </tr>\n",
       "    <tr>\n",
       "      <th>25%</th>\n",
       "      <td>68.000000</td>\n",
       "    </tr>\n",
       "    <tr>\n",
       "      <th>50%</th>\n",
       "      <td>122.000000</td>\n",
       "    </tr>\n",
       "    <tr>\n",
       "      <th>75%</th>\n",
       "      <td>561.000000</td>\n",
       "    </tr>\n",
       "    <tr>\n",
       "      <th>max</th>\n",
       "      <td>8036.000000</td>\n",
       "    </tr>\n",
       "  </tbody>\n",
       "</table>\n",
       "</div>"
      ],
      "text/plain": [
       "       age_upon_outcome\n",
       "count      26887.000000\n",
       "mean         567.448916\n",
       "std         1011.149658\n",
       "min            0.000000\n",
       "25%           68.000000\n",
       "50%          122.000000\n",
       "75%          561.000000\n",
       "max         8036.000000"
      ]
     },
     "execution_count": 30,
     "metadata": {},
     "output_type": "execute_result"
    }
   ],
   "source": [
    "catagepandas.describe()"
   ]
  },
  {
   "cell_type": "code",
   "execution_count": 31,
   "metadata": {},
   "outputs": [
    {
     "data": {
      "text/html": [
       "<div>\n",
       "<style scoped>\n",
       "    .dataframe tbody tr th:only-of-type {\n",
       "        vertical-align: middle;\n",
       "    }\n",
       "\n",
       "    .dataframe tbody tr th {\n",
       "        vertical-align: top;\n",
       "    }\n",
       "\n",
       "    .dataframe thead th {\n",
       "        text-align: right;\n",
       "    }\n",
       "</style>\n",
       "<table border=\"1\" class=\"dataframe\">\n",
       "  <thead>\n",
       "    <tr style=\"text-align: right;\">\n",
       "      <th></th>\n",
       "      <th>age_upon_outcome</th>\n",
       "    </tr>\n",
       "  </thead>\n",
       "  <tbody>\n",
       "    <tr>\n",
       "      <th>count</th>\n",
       "      <td>43997.000000</td>\n",
       "    </tr>\n",
       "    <tr>\n",
       "      <th>mean</th>\n",
       "      <td>1046.475419</td>\n",
       "    </tr>\n",
       "    <tr>\n",
       "      <th>std</th>\n",
       "      <td>1127.093845</td>\n",
       "    </tr>\n",
       "    <tr>\n",
       "      <th>min</th>\n",
       "      <td>0.000000</td>\n",
       "    </tr>\n",
       "    <tr>\n",
       "      <th>25%</th>\n",
       "      <td>306.000000</td>\n",
       "    </tr>\n",
       "    <tr>\n",
       "      <th>50%</th>\n",
       "      <td>732.000000</td>\n",
       "    </tr>\n",
       "    <tr>\n",
       "      <th>75%</th>\n",
       "      <td>1462.000000</td>\n",
       "    </tr>\n",
       "    <tr>\n",
       "      <th>max</th>\n",
       "      <td>7305.000000</td>\n",
       "    </tr>\n",
       "  </tbody>\n",
       "</table>\n",
       "</div>"
      ],
      "text/plain": [
       "       age_upon_outcome\n",
       "count      43997.000000\n",
       "mean        1046.475419\n",
       "std         1127.093845\n",
       "min            0.000000\n",
       "25%          306.000000\n",
       "50%          732.000000\n",
       "75%         1462.000000\n",
       "max         7305.000000"
      ]
     },
     "execution_count": 31,
     "metadata": {},
     "output_type": "execute_result"
    }
   ],
   "source": [
    "dogagepandas.describe()"
   ]
  },
  {
   "cell_type": "code",
   "execution_count": 32,
   "metadata": {},
   "outputs": [
    {
     "data": {
      "image/png": "[encoded data removed]",
      "text/plain": [
       "<Figure size 432x288 with 1 Axes>"
      ]
     },
     "metadata": {
      "needs_background": "light"
     },
     "output_type": "display_data"
    }
   ],
   "source": [
    "# cat age plot\n",
    "\n",
    "catagepandas['age_upon_outcome'] = catagepandas['age_upon_outcome']/365\n",
    "catagepandas.boxplot(column = [\"age_upon_outcome\"])\n",
    "plt.ylabel(\"Years\", fontsize = 14)\n",
    "plt.title(\"Cat Age Boxplot\")\n",
    "plt.show()"
   ]
  },
  {
   "cell_type": "markdown",
   "metadata": {},
   "source": [
    "Most cats have age lower than 4 years. There are many outliers in the plot.  "
   ]
  },
  {
   "cell_type": "code",
   "execution_count": 33,
   "metadata": {},
   "outputs": [
    {
     "data": {
      "image/png": "[encoded data removed]",
      "text/plain": [
       "<Figure size 432x288 with 1 Axes>"
      ]
     },
     "metadata": {
      "needs_background": "light"
     },
     "output_type": "display_data"
    }
   ],
   "source": [
    "# dog age plot\n",
    "\n",
    "dogagepandas['age_upon_outcome'] = dogagepandas['age_upon_outcome']/365\n",
    "dogagepandas.boxplot(column = [\"age_upon_outcome\"])\n",
    "plt.ylabel(\"Years\", fontsize = 14)\n",
    "plt.title(\"Dog Age Boxplot\")\n",
    "plt.show()"
   ]
  },
  {
   "cell_type": "markdown",
   "metadata": {},
   "source": [
    "Most dogs have age lower than 8 years. There are many outliers in the plot.  "
   ]
  },
  {
   "cell_type": "code",
   "execution_count": 34,
   "metadata": {},
   "outputs": [
    {
     "data": {
      "image/png": "[encoded data removed]",
      "text/plain": [
       "<Figure size 432x288 with 1 Axes>"
      ]
     },
     "metadata": {
      "needs_background": "light"
     },
     "output_type": "display_data"
    }
   ],
   "source": [
    "# cat age and dog age violin plot\n",
    "\n",
    "fig, axes = plt.subplots()\n",
    "axes.violinplot(dataset = [catagepandas['age_upon_outcome'].values, \n",
    "                           dogagepandas['age_upon_outcome'].values])\n",
    "\n",
    "axes.set_title('Violin Plot for Cat age and Dog age')\n",
    "axes.yaxis.grid(True)\n",
    "axes.set_xlabel('Cat                                                   Dog')\n",
    "axes.set_ylabel('Years')\n",
    "\n",
    "plt.show()"
   ]
  },
  {
   "cell_type": "markdown",
   "metadata": {},
   "source": [
    "We can see from the violin plot that the eldest cat is elder than the eldest dog. The age distribution of dog is more even that that of cats.  "
   ]
  },
  {
   "cell_type": "markdown",
   "metadata": {},
   "source": [
    "### 3.2.2 Amount of acitivity records in Astin Animal Shelter by month"
   ]
  },
  {
   "cell_type": "markdown",
   "metadata": {},
   "source": [
    "We want to see the line chart of amount of activities. "
   ]
  },
  {
   "cell_type": "code",
   "execution_count": 35,
   "metadata": {},
   "outputs": [
    {
     "name": "stdout",
     "output_type": "stream",
     "text": [
      "+----------+-----+\n",
      "|Year_month|count|\n",
      "+----------+-----+\n",
      "|   2013-10| 1528|\n",
      "|   2013-11| 1257|\n",
      "|   2013-12| 1428|\n",
      "|   2014-01| 1201|\n",
      "|   2014-02| 1023|\n",
      "|   2014-03| 1222|\n",
      "|   2014-04| 1251|\n",
      "|   2014-05| 1480|\n",
      "|   2014-06| 1596|\n",
      "|   2014-07| 1965|\n",
      "+----------+-----+\n",
      "only showing top 10 rows\n",
      "\n"
     ]
    }
   ],
   "source": [
    "# calculate number of animals coming by month\n",
    "\n",
    "dog_cat_shelterdata_for_eda.select(date_format(dog_cat_shelterdata_for_eda['monthyear'],\"yyyy-MM\").alias('ts').cast(\"date\"))\n",
    "dog_cat_shelterdata_for_eda_timeSplit = dog_cat_shelterdata_for_eda.withColumn(\"Year_month\", date_format(dog_cat_shelterdata_for_eda['monthyear'],\"yyyy-MM\"))\n",
    "Year_month_count = dog_cat_shelterdata_for_eda_timeSplit.groupBy(\"Year_month\").count().orderBy(\"Year_month\")\n",
    "Year_month_count = Year_month_count.where(Year_month_count['Year_month']<=\"2017-12\")\n",
    "Year_month_count.show(10)"
   ]
  },
  {
   "cell_type": "markdown",
   "metadata": {},
   "source": [
    "Here are top 10 months with most records:"
   ]
  },
  {
   "cell_type": "code",
   "execution_count": 36,
   "metadata": {},
   "outputs": [
    {
     "name": "stdout",
     "output_type": "stream",
     "text": [
      "+----------+-----+\n",
      "|Year_month|count|\n",
      "+----------+-----+\n",
      "|   2014-07| 1965|\n",
      "|   2015-07| 1743|\n",
      "|   2014-08| 1695|\n",
      "|   2015-06| 1679|\n",
      "|   2017-07| 1601|\n",
      "|   2014-06| 1596|\n",
      "|   2015-05| 1589|\n",
      "|   2017-08| 1550|\n",
      "|   2015-08| 1538|\n",
      "|   2014-09| 1531|\n",
      "+----------+-----+\n",
      "only showing top 10 rows\n",
      "\n"
     ]
    }
   ],
   "source": [
    "Year_month_count.orderBy(desc(\"count\")).show(10)"
   ]
  },
  {
   "cell_type": "markdown",
   "metadata": {},
   "source": [
    "We could see from the results that June, July and Augest are peak months for accomdodating new animals."
   ]
  },
  {
   "cell_type": "code",
   "execution_count": 37,
   "metadata": {},
   "outputs": [
    {
     "data": {
      "text/plain": [
       "Text(0.5, 1.0, 'Amount of activities in Astin Animal Shelter')"
      ]
     },
     "execution_count": 37,
     "metadata": {},
     "output_type": "execute_result"
    },
    {
     "data": {
      "image/png": "[encoded data removed]",
      "text/plain": [
       "<Figure size 432x288 with 1 Axes>"
      ]
     },
     "metadata": {},
     "output_type": "display_data"
    }
   ],
   "source": [
    "%matplotlib inline\n",
    "import matplotlib.pyplot as plt\n",
    "plt.style.use('ggplot')\n",
    "fig = plt.figure()\n",
    "ax = fig.add_subplot(111)\n",
    "Year_month_count_pd = Year_month_count.toPandas()\n",
    "x=Year_month_count_pd.iloc[:,0]\n",
    "y=Year_month_count_pd.iloc[:,1]\n",
    "\n",
    "line, = ax.plot(x, y, color='b',lw=2)\n",
    "ax.annotate('Peak point: 1965 acitivities on 2014-07', xy=('2014-07', 1965), xytext=(\"2015-01\", 1950),\n",
    "            arrowprops=dict(facecolor='black', shrink=0.05),\n",
    "            )\n",
    "\n",
    "plt.xticks(rotation=65)\n",
    "plt.xticks(['2013-10','2014-01','2014-06','2015-01','2015-06','2016-01','2016-06','2017-01','2017-06','2017-12'])\n",
    "plt.ylabel(\"Number of Activities\", fontsize = 14)\n",
    "plt.title('Amount of activities in Astin Animal Shelter')"
   ]
  },
  {
   "cell_type": "markdown",
   "metadata": {},
   "source": [
    "We can clearly see the seasonal pattern in the line chart, i.e. The amount of acitivties increases from the bottom, winter, to the top, summer. The peak point was 1965, happened in July 2014.   "
   ]
  },
  {
   "cell_type": "markdown",
   "metadata": {},
   "source": [
    "### 3.2.3 Sex"
   ]
  },
  {
   "cell_type": "markdown",
   "metadata": {},
   "source": [
    "We want to see the sex structure of animals sent to the shelter."
   ]
  },
  {
   "cell_type": "code",
   "execution_count": 38,
   "metadata": {},
   "outputs": [
    {
     "data": {
      "text/plain": [
       "Text(0.5, 1.0, 'Sex information of cats')"
      ]
     },
     "execution_count": 38,
     "metadata": {},
     "output_type": "execute_result"
    },
    {
     "data": {
      "image/png": "[encoded data removed]",
      "text/plain": [
       "<Figure size 432x288 with 1 Axes>"
      ]
     },
     "metadata": {},
     "output_type": "display_data"
    }
   ],
   "source": [
    "# summary of cat sex\n",
    "\n",
    "cat_sex = dog_cat_shelterdata_for_eda.where(col(\"animal_type\")==\"Cat\").select(col(\"sex\")).groupBy(\"sex\").count()\n",
    "cat_sex_pd = cat_sex.toPandas()\n",
    "plt.pie(cat_sex_pd[\"count\"],explode=(0,0.1), labels=[\"Female\",\"Male\"], autopct='%1.1f%%',shadow=True, startangle=90)\n",
    "plt.title('Sex information of cats')"
   ]
  },
  {
   "cell_type": "code",
   "execution_count": 39,
   "metadata": {},
   "outputs": [
    {
     "data": {
      "text/plain": [
       "Text(0.5, 1.0, 'Sex information of dogs')"
      ]
     },
     "execution_count": 39,
     "metadata": {},
     "output_type": "execute_result"
    },
    {
     "data": {
      "image/png": "[encoded data removed]",
      "text/plain": [
       "<Figure size 432x288 with 1 Axes>"
      ]
     },
     "metadata": {},
     "output_type": "display_data"
    }
   ],
   "source": [
    "# summary of dog sex\n",
    "\n",
    "dog_sex = dog_cat_shelterdata_for_eda.where(col(\"animal_type\")==\"Dog\").select(col(\"sex\")).groupBy(\"sex\").count()\n",
    "dog_sex_pd = dog_sex.toPandas()\n",
    "plt.pie(dog_sex_pd[\"count\"],explode=(0,0.1), labels=[\"Female\",\"Male\"], autopct='%1.1f%%',shadow=True, startangle=90)\n",
    "plt.title('Sex information of dogs')"
   ]
  },
  {
   "cell_type": "markdown",
   "metadata": {},
   "source": [
    "We see female cats account for a slightly bigger part and so do male dogs. Overall, we do not find huge differnce in the number of female and male animals."
   ]
  },
  {
   "cell_type": "markdown",
   "metadata": {},
   "source": [
    "### 3.2.4 Color"
   ]
  },
  {
   "cell_type": "markdown",
   "metadata": {},
   "source": [
    "We are given the exact data of animal colors, i.e. we know all colors that an animal has. The intuition here is to divide the animals into two groups, one with single color and the other with multiple colors, and do not make further classification for multiple color animals. Since multiple colors are separated by a slash, we count the number of slash of each cell and create a new column named \"color_num\". We could also use this column as a new variable in the prediction process."
   ]
  },
  {
   "cell_type": "code",
   "execution_count": 40,
   "metadata": {},
   "outputs": [
    {
     "data": {
      "text/plain": [
       "Text(0.5, 1.0, 'Color information of cats')"
      ]
     },
     "execution_count": 40,
     "metadata": {},
     "output_type": "execute_result"
    },
    {
     "data": {
      "image/png": "[encoded data removed]",
      "text/plain": [
       "<Figure size 432x288 with 1 Axes>"
      ]
     },
     "metadata": {},
     "output_type": "display_data"
    }
   ],
   "source": [
    "# summary of cat color\n",
    "\n",
    "cat_color = dog_cat_shelterdata_for_eda.where(col(\"animal_type\")==\"Cat\").select(col(\"is_sc\")).groupBy(\"is_sc\").count()\n",
    "cat_color_pd = cat_color.toPandas()\n",
    "plt.pie(cat_color_pd[\"count\"],explode=(0,0.1), labels=[\"Pure\",\"Mix\"], autopct='%1.1f%%',shadow=True, startangle=90)\n",
    "plt.title('Color information of cats')"
   ]
  },
  {
   "cell_type": "code",
   "execution_count": 41,
   "metadata": {},
   "outputs": [
    {
     "data": {
      "text/plain": [
       "Text(0.5, 1.0, 'Color information of dogs')"
      ]
     },
     "execution_count": 41,
     "metadata": {},
     "output_type": "execute_result"
    },
    {
     "data": {
      "image/png": "[encoded data removed]",
      "text/plain": [
       "<Figure size 432x288 with 1 Axes>"
      ]
     },
     "metadata": {},
     "output_type": "display_data"
    }
   ],
   "source": [
    "# summary of dog color\n",
    "\n",
    "dog_color = dog_cat_shelterdata_for_eda.where(col(\"animal_type\")==\"Dog\").select(col(\"is_sc\")).groupBy(\"is_sc\").count()\n",
    "dog_color_pd = dog_color.toPandas()\n",
    "plt.pie(dog_color_pd[\"count\"],explode=(0,0.1), labels=[\"Pure\",\"Mix\"], autopct='%1.1f%%',shadow=True, startangle=90)\n",
    "plt.title('Color information of dogs')"
   ]
  },
  {
   "cell_type": "markdown",
   "metadata": {},
   "source": [
    "We see that cats are mainly with one single color, and dogs are more likely to have multiple colors."
   ]
  },
  {
   "cell_type": "markdown",
   "metadata": {},
   "source": [
    "### 3.2.5 Fertility"
   ]
  },
  {
   "cell_type": "markdown",
   "metadata": {},
   "source": [
    "We want to see how many animals are able to give babies and whether people like this feature or not."
   ]
  },
  {
   "cell_type": "code",
   "execution_count": 42,
   "metadata": {},
   "outputs": [
    {
     "data": {
      "text/plain": [
       "Text(0.5, 1.0, 'Fertility information of cats')"
      ]
     },
     "execution_count": 42,
     "metadata": {},
     "output_type": "execute_result"
    },
    {
     "data": {
      "image/png": "[encoded data removed]",
      "text/plain": [
       "<Figure size 432x288 with 1 Axes>"
      ]
     },
     "metadata": {},
     "output_type": "display_data"
    }
   ],
   "source": [
    "# summary of cat fertility\n",
    "\n",
    "cat_fer = dog_cat_shelterdata_for_eda.where(col(\"animal_type\")==\"Cat\").select(col(\"reproduction\"),col(\"sex\")).groupBy(\"sex\",\"reproduction\").count()\n",
    "cat_fer_pd = cat_fer.toPandas()\n",
    "plt.pie(cat_fer_pd[\"count\"],explode=(0.1,0.1,0.1,0.1), labels=[\"Spayed Female\",\"Intact Female\",\"Intact Male\",\"Neutered Male\"], autopct='%1.1f%%',shadow=True, startangle=90)\n",
    "plt.title('Fertility information of cats')"
   ]
  },
  {
   "cell_type": "code",
   "execution_count": 43,
   "metadata": {},
   "outputs": [
    {
     "data": {
      "text/plain": [
       "Text(0.5, 1.0, 'Fertility information of dogs')"
      ]
     },
     "execution_count": 43,
     "metadata": {},
     "output_type": "execute_result"
    },
    {
     "data": {
      "image/png": "[encoded data removed]",
      "text/plain": [
       "<Figure size 432x288 with 1 Axes>"
      ]
     },
     "metadata": {},
     "output_type": "display_data"
    }
   ],
   "source": [
    "# summary of dog fertility\n",
    "\n",
    "dog_fer = dog_cat_shelterdata_for_eda.where(col(\"animal_type\")==\"Dog\").select(col(\"reproduction\"),col(\"sex\")).groupBy(\"sex\",\"reproduction\").count()\n",
    "dog_fer_pd = dog_fer.toPandas()\n",
    "plt.pie(dog_fer_pd[\"count\"],explode=(0.1,0.1,0.1,0.1), labels=[\"Spayed Female\",\"Intact Female\",\"Intact Male\",\"Neutered Male\"], autopct='%1.1f%%',shadow=True, startangle=90)\n",
    "plt.title('Fertility information of dogs')"
   ]
  },
  {
   "cell_type": "markdown",
   "metadata": {},
   "source": [
    "The result shows that most of the animals are unable to give babies no matter for male or female, dogs or cats. And this ratio is even higher for dogs."
   ]
  },
  {
   "cell_type": "markdown",
   "metadata": {},
   "source": [
    "### 3.2.6 Outcome"
   ]
  },
  {
   "cell_type": "markdown",
   "metadata": {},
   "source": [
    "There're eight outcomes for animals: adoption, transfer, return to owner, euthanasia, died, rto-adopt, missing and disposal. We want to see the number of animals in each category."
   ]
  },
  {
   "cell_type": "code",
   "execution_count": 44,
   "metadata": {},
   "outputs": [
    {
     "data": {
      "image/png": "[encoded data removed]",
      "text/plain": [
       "<Figure size 432x288 with 1 Axes>"
      ]
     },
     "metadata": {},
     "output_type": "display_data"
    }
   ],
   "source": [
    "# summary of cat outcome type\n",
    "\n",
    "cat_out = dog_cat_shelterdata_for_eda.where(col(\"animal_type\")==\"Cat\").select(col(\"outcome_type\")).groupBy(\"outcome_type\").count().orderBy(\"count\")\n",
    "cat_out_pd = cat_out.toPandas()\n",
    "\n",
    "label = list(cat_out_pd[\"outcome_type\"].values)\n",
    "index = np.arange(len(label))\n",
    "bars = plt.barh(index,cat_out_pd[\"count\"],align=\"center\")\n",
    "plt.yticks(index, label, fontsize=10)\n",
    "plt.xlabel('Number')\n",
    "plt.title(\"Cat outcome\")\n",
    "for bar in bars:\n",
    "    xval = bar.get_width()\n",
    "    plt.text(xval+100, bar.get_y()+0.3, xval)\n",
    "plt.show()"
   ]
  },
  {
   "cell_type": "code",
   "execution_count": 45,
   "metadata": {
    "scrolled": true
   },
   "outputs": [
    {
     "data": {
      "image/png": "[encoded data removed]",
      "text/plain": [
       "<Figure size 432x288 with 1 Axes>"
      ]
     },
     "metadata": {},
     "output_type": "display_data"
    }
   ],
   "source": [
    "# summary of dog outcome type\n",
    "\n",
    "dog_out = dog_cat_shelterdata_for_eda.where(col(\"animal_type\")==\"Dog\").select(col(\"outcome_type\")).groupBy(\"outcome_type\").count().orderBy(\"count\")\n",
    "dog_out_pd = dog_out.toPandas()\n",
    "\n",
    "label = list(dog_out_pd[\"outcome_type\"].values)\n",
    "index = np.arange(len(label))\n",
    "bars = plt.barh(index,dog_out_pd[\"count\"],align=\"center\")\n",
    "plt.yticks(index, label, fontsize=10)\n",
    "plt.xlabel('Number')\n",
    "plt.title(\"Dog outcome\")\n",
    "for bar in bars:\n",
    "    xval = bar.get_width()\n",
    "    plt.text(xval+100, bar.get_y()+0.3, xval)\n",
    "plt.show()"
   ]
  },
  {
   "cell_type": "markdown",
   "metadata": {},
   "source": [
    "We see that most animals are adopted, many are returned to the owner which is good, some transfer to other places (maybe other shelters or hospitals), and the rest five outcomes account for a very small part. Our goal is to look into the features of those animals that got adopted."
   ]
  },
  {
   "cell_type": "markdown",
   "metadata": {},
   "source": [
    "### 3.2.7 Number of times an animal was sent to the shelter"
   ]
  },
  {
   "cell_type": "markdown",
   "metadata": {},
   "source": [
    "It's interesting to know that one animal may be sent to the shelter many times, though this rarely happens. Some of them escaped from the new home and was resent to thier owner many times. A few of them were returned by thier onwer back to the shelter and are waiting for a new owner."
   ]
  },
  {
   "cell_type": "code",
   "execution_count": 46,
   "metadata": {},
   "outputs": [],
   "source": [
    "# number of times that an animal was sent to the shelter\n",
    "\n",
    "cat_time = dog_cat_shelterdata_for_eda.where(col(\"animal_type\")==\"Cat\").select(col(\"animal_id\")).groupBy(\"animal_id\").count()\n",
    "cat_time = cat_time.withColumn(\"resend\",col(\"count\")!=1)\n",
    "cat_time_count = cat_time.select(col(\"count\").alias(\"cat_send_num\"))\\\n",
    "    .groupBy(\"cat_send_num\")\\\n",
    "    .count()\\\n",
    "    .orderBy(desc(\"cat_send_num\"))\n",
    "\n",
    "dog_time = dog_cat_shelterdata_for_eda.where(col(\"animal_type\")==\"Dog\").select(col(\"animal_id\")).groupBy(\"animal_id\").count()\n",
    "dog_time = dog_time.withColumn(\"resend\",col(\"count\")!=1)\n",
    "dog_time_count = dog_time.select(col(\"count\").alias(\"dog_send_num\"))\\\n",
    "    .groupBy(\"dog_send_num\")\\\n",
    "    .count()\\\n",
    "    .orderBy(desc(\"dog_send_num\"))"
   ]
  },
  {
   "cell_type": "code",
   "execution_count": 47,
   "metadata": {
    "scrolled": false
   },
   "outputs": [
    {
     "name": "stdout",
     "output_type": "stream",
     "text": [
      "+------------+-----+\n",
      "|cat_send_num|count|\n",
      "+------------+-----+\n",
      "|           5|    1|\n",
      "|           4|    3|\n",
      "|           3|   96|\n",
      "|           2|  998|\n",
      "|           1|24586|\n",
      "+------------+-----+\n",
      "\n",
      "+------------+-----+\n",
      "|dog_send_num|count|\n",
      "+------------+-----+\n",
      "|          11|    2|\n",
      "|          10|    1|\n",
      "|           8|    3|\n",
      "|           7|    6|\n",
      "|           6|   23|\n",
      "|           5|   61|\n",
      "|           4|  181|\n",
      "|           3|  716|\n",
      "|           2| 3744|\n",
      "|           1|33096|\n",
      "+------------+-----+\n",
      "\n"
     ]
    }
   ],
   "source": [
    "cat_time_count.show()\n",
    "dog_time_count.show()"
   ]
  },
  {
   "cell_type": "markdown",
   "metadata": {},
   "source": [
    "Most of the animals only have one record and some of them are resent to the shelter a couple of times. The most naughty dog got lost 10 times after being adopted by an owner!"
   ]
  },
  {
   "cell_type": "markdown",
   "metadata": {},
   "source": [
    "# 4. Featuring engineering"
   ]
  },
  {
   "cell_type": "markdown",
   "metadata": {},
   "source": [
    "## 4.1 Data preprocessing for feature transformation"
   ]
  },
  {
   "cell_type": "markdown",
   "metadata": {},
   "source": [
    "We now want to split the dataframe into two individual parts, one for dogs and one for cats, each containing six variables: age, color, sex, fertility, quarter and if_weekday. Later we may take breed and name information into account, and even take animal type as an independent variable. To do this, we need to delete unuseful columns, convert useful ones into binary varialbes, and convert the timestamp to two separate columns: month and day."
   ]
  },
  {
   "cell_type": "code",
   "execution_count": 116,
   "metadata": {},
   "outputs": [],
   "source": [
    "# split the dataframe and keep the columns we're going to make use of\n",
    "\n",
    "df_dog = dog_cat_shelterdata.where(col(\"animal_type\")==\"Dog\")\n",
    "df_cat = dog_cat_shelterdata.where(col(\"animal_type\")==\"Cat\")\n",
    "\n",
    "df_dog = df_dog.select(\"age_upon_outcome\", \"is_sc\", \"sex\", \"reproduction\", \"monthyear\", \"outcome_type\")\n",
    "df_cat = df_cat.select(\"age_upon_outcome\", \"is_sc\", \"sex\", \"reproduction\", \"monthyear\", \"outcome_type\")"
   ]
  },
  {
   "cell_type": "code",
   "execution_count": 117,
   "metadata": {},
   "outputs": [],
   "source": [
    "# convert column \"outcome_type\" to a binary variable (i.e. adopted or not)\n",
    "\n",
    "df_dog = df_dog.withColumn(\"outcome_type\", (df_dog[\"outcome_type\"]==\"Adoption\").cast(\"int\"))\n",
    "df_cat = df_cat.withColumn(\"outcome_type\", (df_cat[\"outcome_type\"]==\"Adoption\").cast(\"int\"))"
   ]
  },
  {
   "cell_type": "code",
   "execution_count": 118,
   "metadata": {},
   "outputs": [],
   "source": [
    "# split column \"monthyear\" into month and day, and convert to \"quarter\" & is_wkd\"\n",
    "\n",
    "df_dog = df_dog.withColumn(\"monthyear\", to_date(\"monthyear\",\"yyyy-MM-dd'T'HH:mm:ss\"))\n",
    "df_dog = df_dog.withColumn(\"month\", month(\"monthyear\"))\n",
    "df_dog = df_dog.withColumn(\"day\", dayofweek(\"monthyear\"))\n",
    "df_dog = df_dog.withColumn(\"is_wkd\", when(df_dog[\"day\"]>5, 0).otherwise(1)).drop(df_dog[\"day\"])\n",
    "\n",
    "df_cat = df_cat.withColumn(\"monthyear\", to_date(\"monthyear\",\"yyyy-MM-dd'T'HH:mm:ss\"))\n",
    "df_cat = df_cat.withColumn(\"month\", month(\"monthyear\"))\n",
    "df_cat = df_cat.withColumn(\"day\", dayofweek(\"monthyear\"))\n",
    "df_cat = df_cat.withColumn(\"is_wkd\", when(df_cat[\"day\"]>5, 0).otherwise(1)).drop(df_cat[\"day\"])\n",
    "\n",
    "cond = \"\"\"case when month > 9 then 'Q4'\n",
    "            else case when month > 6 then 'Q3'\n",
    "                else case when month > 3 then 'Q2'\n",
    "                    else case when month > 0 then 'Q1'\n",
    "                        end\n",
    "                    end\n",
    "                end\n",
    "            end as quarter\"\"\"\n",
    "\n",
    "df_dog = df_dog.withColumn(\"quarter\", expr(cond))\n",
    "df_cat = df_cat.withColumn(\"quarter\", expr(cond))"
   ]
  },
  {
   "cell_type": "code",
   "execution_count": 119,
   "metadata": {},
   "outputs": [],
   "source": [
    "# convert age in days into years\n",
    "\n",
    "from pyspark.sql.functions import round\n",
    "df_dog = df_dog.withColumn(\"age\", round(df_dog[\"age_upon_outcome\"]/365,1))\n",
    "df_cat = df_cat.withColumn(\"age\", round(df_cat[\"age_upon_outcome\"]/365,1))"
   ]
  },
  {
   "cell_type": "code",
   "execution_count": 120,
   "metadata": {},
   "outputs": [],
   "source": [
    "# convert column \"reproduction\" into binary variable\n",
    "\n",
    "df_dog = df_dog.withColumn(\"reproduction\", when(df_dog[\"reproduction\"]==\"Intact\", 1).otherwise(0))\n",
    "df_cat = df_cat.withColumn(\"reproduction\", when(df_cat[\"reproduction\"]==\"Intact\", 1).otherwise(0))"
   ]
  },
  {
   "cell_type": "code",
   "execution_count": 121,
   "metadata": {},
   "outputs": [],
   "source": [
    "# keep only useful columns\n",
    "\n",
    "df_dog_reg = df_dog.select(\"age\", \"is_sc\", \"sex\", \"reproduction\", \"quarter\", \"is_wkd\", \"outcome_type\")\n",
    "df_cat_reg = df_cat.select(\"age\", \"is_sc\", \"sex\", \"reproduction\", \"quarter\", \"is_wkd\", \"outcome_type\")"
   ]
  },
  {
   "cell_type": "code",
   "execution_count": 122,
   "metadata": {},
   "outputs": [
    {
     "name": "stdout",
     "output_type": "stream",
     "text": [
      "+---+-----+------+------------+-------+------+------------+\n",
      "|age|is_sc|   sex|reproduction|quarter|is_wkd|outcome_type|\n",
      "+---+-----+------+------------+-------+------+------------+\n",
      "|1.0|    0|Female|           0|     Q4|     1|           0|\n",
      "|1.2|    0|  Male|           0|     Q2|     1|           1|\n",
      "|9.0|    1|  Male|           0|     Q2|     1|           0|\n",
      "|0.3|    0|  Male|           1|     Q4|     1|           0|\n",
      "|3.0|    1|Female|           0|     Q4|     1|           0|\n",
      "+---+-----+------+------------+-------+------+------------+\n",
      "only showing top 5 rows\n",
      "\n",
      "+---+-----+------+------------+-------+------+------------+\n",
      "|age|is_sc|   sex|reproduction|quarter|is_wkd|outcome_type|\n",
      "+---+-----+------+------------+-------+------+------------+\n",
      "|0.0|    1|  Male|           1|     Q3|     1|           0|\n",
      "|0.2|    0|Female|           1|     Q3|     1|           1|\n",
      "|0.3|    0|Female|           0|     Q2|     1|           1|\n",
      "|1.0|    0|Female|           0|     Q1|     0|           0|\n",
      "|0.1|    0|  Male|           1|     Q1|     1|           0|\n",
      "+---+-----+------+------------+-------+------+------------+\n",
      "only showing top 5 rows\n",
      "\n"
     ]
    }
   ],
   "source": [
    "# check the first several rows\n",
    "\n",
    "df_dog_reg.show(5)\n",
    "df_cat_reg.show(5)"
   ]
  },
  {
   "cell_type": "markdown",
   "metadata": {},
   "source": [
    "## 4.2 Feature transformation"
   ]
  },
  {
   "cell_type": "markdown",
   "metadata": {},
   "source": [
    "Now we have all six features in a clean dataframe: age, sex, reproduction, is_singleColor, quarter, is_weekday. We want then to test the correlation among these variables. Since our data contains text, we use RFormula to transform these features all into figures."
   ]
  },
  {
   "cell_type": "code",
   "execution_count": 123,
   "metadata": {},
   "outputs": [],
   "source": [
    "# construct an RFormula\n",
    "\n",
    "from pyspark.ml.feature import RFormula\n",
    "reg = RFormula(formula=\"outcome_type ~ .\")"
   ]
  },
  {
   "cell_type": "code",
   "execution_count": 124,
   "metadata": {},
   "outputs": [
    {
     "name": "stdout",
     "output_type": "stream",
     "text": [
      "+---+-----+------+------------+-------+------+------------+---------------------------------+-----+\n",
      "|age|is_sc|sex   |reproduction|quarter|is_wkd|outcome_type|features                         |label|\n",
      "+---+-----+------+------------+-------+------+------------+---------------------------------+-----+\n",
      "|1.0|0    |Female|0           |Q4     |1     |0           |(8,[0,4,7],[1.0,1.0,1.0])        |0.0  |\n",
      "|1.2|0    |Male  |0           |Q2     |1     |1           |(8,[0,2,6,7],[1.2,1.0,1.0,1.0])  |1.0  |\n",
      "|9.0|1    |Male  |0           |Q2     |1     |0           |[9.0,1.0,1.0,0.0,0.0,0.0,1.0,1.0]|0.0  |\n",
      "|0.3|0    |Male  |1           |Q4     |1     |0           |[0.3,0.0,1.0,1.0,1.0,0.0,0.0,1.0]|0.0  |\n",
      "|3.0|1    |Female|0           |Q4     |1     |0           |(8,[0,1,4,7],[3.0,1.0,1.0,1.0])  |0.0  |\n",
      "+---+-----+------+------------+-------+------+------------+---------------------------------+-----+\n",
      "only showing top 5 rows\n",
      "\n"
     ]
    }
   ],
   "source": [
    "# fit and transform\n",
    "\n",
    "dog_reg_result = reg.fit(df_dog_reg).transform(df_dog_reg)\n",
    "dog_reg_result.show(5, False)"
   ]
  },
  {
   "cell_type": "code",
   "execution_count": 125,
   "metadata": {
    "scrolled": true
   },
   "outputs": [
    {
     "name": "stdout",
     "output_type": "stream",
     "text": [
      "+---+-----+------+------------+-------+------+------------+---------------------------------+-----+\n",
      "|age|is_sc|sex   |reproduction|quarter|is_wkd|outcome_type|features                         |label|\n",
      "+---+-----+------+------------+-------+------+------------+---------------------------------+-----+\n",
      "|0.0|1    |Male  |1           |Q3     |1     |0           |(8,[1,3,4,7],[1.0,1.0,1.0,1.0])  |0.0  |\n",
      "|0.2|0    |Female|1           |Q3     |1     |1           |[0.2,0.0,1.0,1.0,1.0,0.0,0.0,1.0]|1.0  |\n",
      "|0.3|0    |Female|0           |Q2     |1     |1           |(8,[0,2,6,7],[0.3,1.0,1.0,1.0])  |1.0  |\n",
      "|1.0|0    |Female|0           |Q1     |0     |0           |(8,[0,2],[1.0,1.0])              |0.0  |\n",
      "|0.1|0    |Male  |1           |Q1     |1     |0           |(8,[0,3,7],[0.1,1.0,1.0])        |0.0  |\n",
      "+---+-----+------+------------+-------+------+------------+---------------------------------+-----+\n",
      "only showing top 5 rows\n",
      "\n"
     ]
    }
   ],
   "source": [
    "cat_reg_result = reg.fit(df_cat_reg).transform(df_cat_reg)\n",
    "cat_reg_result.show(5, False)"
   ]
  },
  {
   "cell_type": "markdown",
   "metadata": {},
   "source": [
    "## 4.3 Correlation examination"
   ]
  },
  {
   "cell_type": "markdown",
   "metadata": {},
   "source": [
    "Now that we have the feature vector, we could look into pairwise correlation and visualize the corr matrix."
   ]
  },
  {
   "cell_type": "code",
   "execution_count": 126,
   "metadata": {},
   "outputs": [
    {
     "name": "stderr",
     "output_type": "stream",
     "text": [
      "/opt/conda/lib/python3.6/site-packages/ipykernel/__main__.py:4: FutureWarning: Method .as_matrix will be removed in a future version. Use .values instead.\n"
     ]
    },
    {
     "data": {
      "text/html": [
       "<div>\n",
       "<style scoped>\n",
       "    .dataframe tbody tr th:only-of-type {\n",
       "        vertical-align: middle;\n",
       "    }\n",
       "\n",
       "    .dataframe tbody tr th {\n",
       "        vertical-align: top;\n",
       "    }\n",
       "\n",
       "    .dataframe thead th {\n",
       "        text-align: right;\n",
       "    }\n",
       "</style>\n",
       "<table border=\"1\" class=\"dataframe\">\n",
       "  <thead>\n",
       "    <tr style=\"text-align: right;\">\n",
       "      <th></th>\n",
       "      <th>age</th>\n",
       "      <th>color</th>\n",
       "      <th>sex</th>\n",
       "      <th>reproduction</th>\n",
       "      <th>Q4</th>\n",
       "      <th>Q1</th>\n",
       "      <th>Q2</th>\n",
       "      <th>weekday</th>\n",
       "    </tr>\n",
       "  </thead>\n",
       "  <tbody>\n",
       "    <tr>\n",
       "      <th>0</th>\n",
       "      <td>1.0</td>\n",
       "      <td>0.0</td>\n",
       "      <td>0.0</td>\n",
       "      <td>0.0</td>\n",
       "      <td>1.0</td>\n",
       "      <td>0.0</td>\n",
       "      <td>0.0</td>\n",
       "      <td>1.0</td>\n",
       "    </tr>\n",
       "    <tr>\n",
       "      <th>1</th>\n",
       "      <td>1.2</td>\n",
       "      <td>0.0</td>\n",
       "      <td>1.0</td>\n",
       "      <td>0.0</td>\n",
       "      <td>0.0</td>\n",
       "      <td>0.0</td>\n",
       "      <td>1.0</td>\n",
       "      <td>1.0</td>\n",
       "    </tr>\n",
       "    <tr>\n",
       "      <th>2</th>\n",
       "      <td>9.0</td>\n",
       "      <td>1.0</td>\n",
       "      <td>1.0</td>\n",
       "      <td>0.0</td>\n",
       "      <td>0.0</td>\n",
       "      <td>0.0</td>\n",
       "      <td>1.0</td>\n",
       "      <td>1.0</td>\n",
       "    </tr>\n",
       "    <tr>\n",
       "      <th>3</th>\n",
       "      <td>0.3</td>\n",
       "      <td>0.0</td>\n",
       "      <td>1.0</td>\n",
       "      <td>1.0</td>\n",
       "      <td>1.0</td>\n",
       "      <td>0.0</td>\n",
       "      <td>0.0</td>\n",
       "      <td>1.0</td>\n",
       "    </tr>\n",
       "    <tr>\n",
       "      <th>4</th>\n",
       "      <td>3.0</td>\n",
       "      <td>1.0</td>\n",
       "      <td>0.0</td>\n",
       "      <td>0.0</td>\n",
       "      <td>1.0</td>\n",
       "      <td>0.0</td>\n",
       "      <td>0.0</td>\n",
       "      <td>1.0</td>\n",
       "    </tr>\n",
       "  </tbody>\n",
       "</table>\n",
       "</div>"
      ],
      "text/plain": [
       "   age  color  sex  reproduction   Q4   Q1   Q2  weekday\n",
       "0  1.0    0.0  0.0           0.0  1.0  0.0  0.0      1.0\n",
       "1  1.2    0.0  1.0           0.0  0.0  0.0  1.0      1.0\n",
       "2  9.0    1.0  1.0           0.0  0.0  0.0  1.0      1.0\n",
       "3  0.3    0.0  1.0           1.0  1.0  0.0  0.0      1.0\n",
       "4  3.0    1.0  0.0           0.0  1.0  0.0  0.0      1.0"
      ]
     },
     "execution_count": 126,
     "metadata": {},
     "output_type": "execute_result"
    }
   ],
   "source": [
    "dog_transformed_feature = dog_reg_result.select(\"features\")\n",
    "dog_transformed_feature_pd = dog_transformed_feature.toPandas()\n",
    "\n",
    "dog_feature_mat = dog_transformed_feature_pd['features'].apply(lambda x : np.array(x.toArray())).as_matrix().reshape(-1,1)\n",
    "dog_feature_arr = np.apply_along_axis(lambda x : x[0], 1, dog_feature_mat)\n",
    "\n",
    "labels1 = [\"age\", \"color\", \"sex\", \"reproduction\", \"Q4\", \"Q1\", \"Q2\", \"weekday\"]\n",
    "dog_feature_pd = pd.DataFrame(dog_feature_arr, columns=labels1)\n",
    "dog_feature_pd.head()"
   ]
  },
  {
   "cell_type": "code",
   "execution_count": 127,
   "metadata": {},
   "outputs": [
    {
     "name": "stderr",
     "output_type": "stream",
     "text": [
      "/opt/conda/lib/python3.6/site-packages/ipykernel/__main__.py:4: FutureWarning: Method .as_matrix will be removed in a future version. Use .values instead.\n"
     ]
    },
    {
     "data": {
      "text/html": [
       "<div>\n",
       "<style scoped>\n",
       "    .dataframe tbody tr th:only-of-type {\n",
       "        vertical-align: middle;\n",
       "    }\n",
       "\n",
       "    .dataframe tbody tr th {\n",
       "        vertical-align: top;\n",
       "    }\n",
       "\n",
       "    .dataframe thead th {\n",
       "        text-align: right;\n",
       "    }\n",
       "</style>\n",
       "<table border=\"1\" class=\"dataframe\">\n",
       "  <thead>\n",
       "    <tr style=\"text-align: right;\">\n",
       "      <th></th>\n",
       "      <th>age</th>\n",
       "      <th>color</th>\n",
       "      <th>sex</th>\n",
       "      <th>reproduction</th>\n",
       "      <th>Q3</th>\n",
       "      <th>Q4</th>\n",
       "      <th>Q2</th>\n",
       "      <th>weekday</th>\n",
       "    </tr>\n",
       "  </thead>\n",
       "  <tbody>\n",
       "    <tr>\n",
       "      <th>0</th>\n",
       "      <td>0.0</td>\n",
       "      <td>1.0</td>\n",
       "      <td>0.0</td>\n",
       "      <td>1.0</td>\n",
       "      <td>1.0</td>\n",
       "      <td>0.0</td>\n",
       "      <td>0.0</td>\n",
       "      <td>1.0</td>\n",
       "    </tr>\n",
       "    <tr>\n",
       "      <th>1</th>\n",
       "      <td>0.2</td>\n",
       "      <td>0.0</td>\n",
       "      <td>1.0</td>\n",
       "      <td>1.0</td>\n",
       "      <td>1.0</td>\n",
       "      <td>0.0</td>\n",
       "      <td>0.0</td>\n",
       "      <td>1.0</td>\n",
       "    </tr>\n",
       "    <tr>\n",
       "      <th>2</th>\n",
       "      <td>0.3</td>\n",
       "      <td>0.0</td>\n",
       "      <td>1.0</td>\n",
       "      <td>0.0</td>\n",
       "      <td>0.0</td>\n",
       "      <td>0.0</td>\n",
       "      <td>1.0</td>\n",
       "      <td>1.0</td>\n",
       "    </tr>\n",
       "    <tr>\n",
       "      <th>3</th>\n",
       "      <td>1.0</td>\n",
       "      <td>0.0</td>\n",
       "      <td>1.0</td>\n",
       "      <td>0.0</td>\n",
       "      <td>0.0</td>\n",
       "      <td>0.0</td>\n",
       "      <td>0.0</td>\n",
       "      <td>0.0</td>\n",
       "    </tr>\n",
       "    <tr>\n",
       "      <th>4</th>\n",
       "      <td>0.1</td>\n",
       "      <td>0.0</td>\n",
       "      <td>0.0</td>\n",
       "      <td>1.0</td>\n",
       "      <td>0.0</td>\n",
       "      <td>0.0</td>\n",
       "      <td>0.0</td>\n",
       "      <td>1.0</td>\n",
       "    </tr>\n",
       "  </tbody>\n",
       "</table>\n",
       "</div>"
      ],
      "text/plain": [
       "   age  color  sex  reproduction   Q3   Q4   Q2  weekday\n",
       "0  0.0    1.0  0.0           1.0  1.0  0.0  0.0      1.0\n",
       "1  0.2    0.0  1.0           1.0  1.0  0.0  0.0      1.0\n",
       "2  0.3    0.0  1.0           0.0  0.0  0.0  1.0      1.0\n",
       "3  1.0    0.0  1.0           0.0  0.0  0.0  0.0      0.0\n",
       "4  0.1    0.0  0.0           1.0  0.0  0.0  0.0      1.0"
      ]
     },
     "execution_count": 127,
     "metadata": {},
     "output_type": "execute_result"
    }
   ],
   "source": [
    "cat_transformed_feature = cat_reg_result.select(\"features\")\n",
    "cat_transformed_feature_pd = cat_transformed_feature.toPandas()\n",
    "\n",
    "cat_feature_mat = cat_transformed_feature_pd['features'].apply(lambda x : np.array(x.toArray())).as_matrix().reshape(-1,1)\n",
    "cat_feature_arr = np.apply_along_axis(lambda x : x[0], 1, cat_feature_mat)\n",
    "\n",
    "labels2 = [\"age\", \"color\", \"sex\", \"reproduction\", \"Q3\", \"Q4\", \"Q2\", \"weekday\"]\n",
    "cat_feature_pd = pd.DataFrame(cat_feature_arr, columns=labels2)\n",
    "cat_feature_pd.head()"
   ]
  },
  {
   "cell_type": "code",
   "execution_count": 128,
   "metadata": {},
   "outputs": [
    {
     "name": "stdout",
     "output_type": "stream",
     "text": [
      "Requirement already satisfied: seaborn in /opt/conda/lib/python3.6/site-packages (0.9.0)\n",
      "Requirement already satisfied: pandas>=0.15.2 in /opt/conda/lib/python3.6/site-packages (from seaborn) (0.24.2)\n",
      "Requirement already satisfied: numpy>=1.9.3 in /opt/conda/lib/python3.6/site-packages (from seaborn) (1.16.2)\n",
      "Requirement already satisfied: matplotlib>=1.4.3 in /opt/conda/lib/python3.6/site-packages (from seaborn) (3.0.3)\n",
      "Requirement already satisfied: scipy>=0.14.0 in /opt/conda/lib/python3.6/site-packages (from seaborn) (1.2.1)\n",
      "Requirement already satisfied: pytz>=2011k in /opt/conda/lib/python3.6/site-packages (from pandas>=0.15.2->seaborn) (2018.9)\n",
      "Requirement already satisfied: python-dateutil>=2.5.0 in /opt/conda/lib/python3.6/site-packages (from pandas>=0.15.2->seaborn) (2.8.0)\n",
      "Requirement already satisfied: cycler>=0.10 in /opt/conda/lib/python3.6/site-packages (from matplotlib>=1.4.3->seaborn) (0.10.0)\n",
      "Requirement already satisfied: kiwisolver>=1.0.1 in /opt/conda/lib/python3.6/site-packages (from matplotlib>=1.4.3->seaborn) (1.0.1)\n",
      "Requirement already satisfied: pyparsing!=2.0.4,!=2.1.2,!=2.1.6,>=2.0.1 in /opt/conda/lib/python3.6/site-packages (from matplotlib>=1.4.3->seaborn) (2.4.0)\n",
      "Requirement already satisfied: six>=1.5 in /opt/conda/lib/python3.6/site-packages (from python-dateutil>=2.5.0->pandas>=0.15.2->seaborn) (1.11.0)\n",
      "Requirement already satisfied: setuptools in /opt/conda/lib/python3.6/site-packages (from kiwisolver>=1.0.1->matplotlib>=1.4.3->seaborn) (39.2.0)\n",
      "\u001b[31mpyspark 2.3.2 has requirement py4j==0.10.7, but you'll have py4j 0.10.8.1 which is incompatible.\u001b[0m\n",
      "\u001b[33mYou are using pip version 10.0.1, however version 19.0.3 is available.\n",
      "You should consider upgrading via the 'pip install --upgrade pip' command.\u001b[0m\n"
     ]
    }
   ],
   "source": [
    "!pip install seaborn\n",
    "import seaborn as sns"
   ]
  },
  {
   "cell_type": "code",
   "execution_count": 129,
   "metadata": {},
   "outputs": [],
   "source": [
    "dog_feature_corr_mat = dog_feature_pd.corr().round(2)\n",
    "cat_feature_corr_mat = cat_feature_pd.corr().round(2)"
   ]
  },
  {
   "cell_type": "code",
   "execution_count": 130,
   "metadata": {},
   "outputs": [
    {
     "data": {
      "text/plain": [
       "<matplotlib.axes._subplots.AxesSubplot at 0x7fcbafc6c7b8>"
      ]
     },
     "execution_count": 130,
     "metadata": {},
     "output_type": "execute_result"
    },
    {
     "data": {
      "image/png": "[encoded data removed]",
      "text/plain": [
       "<Figure size 432x288 with 2 Axes>"
      ]
     },
     "metadata": {},
     "output_type": "display_data"
    }
   ],
   "source": [
    "sns.heatmap(dog_feature_corr_mat, annot=True)"
   ]
  },
  {
   "cell_type": "code",
   "execution_count": 131,
   "metadata": {},
   "outputs": [
    {
     "data": {
      "text/plain": [
       "<matplotlib.axes._subplots.AxesSubplot at 0x7fcbb41369e8>"
      ]
     },
     "execution_count": 131,
     "metadata": {},
     "output_type": "execute_result"
    },
    {
     "data": {
      "image/png": "[encoded data removed]",
      "text/plain": [
       "<Figure size 432x288 with 2 Axes>"
      ]
     },
     "metadata": {},
     "output_type": "display_data"
    }
   ],
   "source": [
    "sns.heatmap(cat_feature_corr_mat, annot=True)"
   ]
  }
 ],
 "metadata": {
  "kernelspec": {
   "display_name": "PySpark",
   "language": "python",
   "name": "pyspark"
  },
  "language_info": {
   "codemirror_mode": {
    "name": "ipython",
    "version": 3
   },
   "file_extension": ".py",
   "mimetype": "text/x-python",
   "name": "python",
   "nbconvert_exporter": "python",
   "pygments_lexer": "ipython3",
   "version": "3.6.5"
  }
 },
 "nbformat": 4,
 "nbformat_minor": 2
}
